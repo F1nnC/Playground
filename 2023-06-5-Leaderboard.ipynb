{
 "cells": [
  {
   "attachments": {},
   "cell_type": "markdown",
   "metadata": {},
   "source": [
    "# How to Animate\n",
    "> Using Sprites to create javascript Animation\n",
    "- toc: true\n",
    "- permalink: /Leaderboard\n",
    "- categories: []\n",
    "- author: Finn Carpenter"
   ]
  },
  {
   "attachments": {},
   "cell_type": "markdown",
   "metadata": {},
   "source": [
    "## What is an animation\n",
    "- Animation is and allusion\n",
    "- Animation = lots of images shown at to you fast\n",
    "- "
   ]
  },
  {
   "cell_type": "code",
   "execution_count": 48,
   "metadata": {},
   "outputs": [
    {
     "name": "stdout",
     "output_type": "stream",
     "text": [
      "                          O \n",
      "                        --|-- \n",
      "                           | \n",
      "                          / \\ \n",
      "===========================\n"
     ]
    }
   ],
   "source": [
    "import os\n",
    "import time\n",
    "\n",
    "x = 1\n",
    "person = [\n",
    "    \"  O \",\n",
    "    \"--|-- \",\n",
    "    \"   | \",\n",
    "    \"  / \\ \"\n",
    "]\n",
    "\n",
    "while x < 25:\n",
    "    for rows in person:\n",
    "        row_with_spaces = \" \" * x + rows  # Add spaces before each row\n",
    "        print(row_with_spaces)\n",
    "    print(\"===========================\")\n",
    "    time.sleep(0.8)\n",
    "    x = x + 1\n",
    "    clear_output(wait=True)\n"
   ]
  },
  {
   "attachments": {},
   "cell_type": "markdown",
   "metadata": {},
   "source": [
    "## Sprites\n",
    "- What do sprite maps look like?\n",
    "- \n",
    "- \n",
    "\n",
    "\n",
    "- [Link to my project](https://f1nnc.github.io/Playground/robot_md/robot)\n",
    "\n",
    "\n",
    "\n",
    "\n",
    "- Sprite maps are a rows and collums of images that if shown in the right order will produce animation\n",
    "\n",
    "\n",
    "![robot](https://f1nnc.github.io/Playground/images/robotIdle.jpg)\n",
    "\n",
    "\n",
    "## Condesned Code from my animation"
   ]
  },
  {
   "cell_type": "code",
   "execution_count": null,
   "metadata": {
    "vscode": {
     "languageId": "html"
    }
   },
   "outputs": [],
   "source": [
    "%%html\n",
    "\n",
    "<canvas id=\"sim\" width=\"250\" height=\"250\" style=\"background-color: white;\"></canvas>\n",
    "\n",
    "<script>\n",
    "    // Links to the image paths\n",
    "    const path = \"https://f1nnc.github.io/Playground/images/robotIdle.jpg\";\n",
    "    const pathR = \"https://f1nnc.github.io/Playground/images/robotRun.jpg\";\n",
    "\n",
    "    // Positions on the X and Y axes\n",
    "    var imageX = 0;\n",
    "    var imageY = 0;\n",
    "\n",
    "    // Get the canvas element and the 2D rendering context\n",
    "    var sim = document.getElementById(\"sim\");\n",
    "    var ctx = sim.getContext(\"2d\");\n",
    "\n",
    "    // Create a new image object and set its source to the idle image\n",
    "    var image = new Image();\n",
    "    image.src = path;\n",
    "\n",
    "    // Function called when the image has finished loading\n",
    "    image.onload = function() {\n",
    "        draw();\n",
    "    };\n",
    "\n",
    "    // Function to draw the image on the canvas\n",
    "    function drawImage() {\n",
    "        ctx.clearRect(0, 0, 250, 250);\n",
    "        ctx.drawImage(image, imageX, imageY, 128, 128, 0, 0, 250, 250);\n",
    "    }\n",
    "\n",
    "    // Function to update the image position\n",
    "    function updateImage() {\n",
    "        imageX = imageX + 128;\n",
    "        if (imageX > 512) {\n",
    "            imageX = 0;\n",
    "            if (imageY < 384) {\n",
    "                imageY = imageY + 128;\n",
    "            } else {\n",
    "                imageY = 0;\n",
    "            }\n",
    "        }\n",
    "        if (imageY === 384 && imageX === 256) {\n",
    "            imageX = 0;\n",
    "            imageY = 0;\n",
    "        }\n",
    "    }\n",
    "\n",
    "    // Function to draw the animation\n",
    "    function draw() {\n",
    "        drawImage();\n",
    "        updateImage();\n",
    "        requestAnimationFrame(draw);\n",
    "    }\n",
    "\n",
    "    // Call the draw function every 1 second (1000 milliseconds)\n",
    "    setInterval(draw, 1000);\n",
    "</script>\n"
   ]
  },
  {
   "attachments": {},
   "cell_type": "markdown",
   "metadata": {},
   "source": [
    "## Hacks\n",
    "- Make your own version of animation\n",
    "- Try using more than python terminal (blog post, PIL, pygame, etc)\n",
    "- Answer all question in here\n",
    "- Explain animation in your own words"
   ]
  }
 ],
 "metadata": {
  "kernelspec": {
   "display_name": "base",
   "language": "python",
   "name": "python3"
  },
  "language_info": {
   "codemirror_mode": {
    "name": "ipython",
    "version": 3
   },
   "file_extension": ".py",
   "mimetype": "text/x-python",
   "name": "python",
   "nbconvert_exporter": "python",
   "pygments_lexer": "ipython3",
   "version": "3.10.6"
  },
  "orig_nbformat": 4
 },
 "nbformat": 4,
 "nbformat_minor": 2
}
