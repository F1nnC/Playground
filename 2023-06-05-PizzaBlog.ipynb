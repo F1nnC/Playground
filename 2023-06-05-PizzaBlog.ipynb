{
 "cells": [
  {
   "attachments": {},
   "cell_type": "markdown",
   "metadata": {},
   "source": [
    "#  Pizza Blog\n",
    "> Blog on how the pizza api works\n",
    "- toc: true\n"
   ]
  },
  {
   "attachments": {},
   "cell_type": "markdown",
   "metadata": {},
   "source": [
    "## The API\n",
    "\n",
    "- For the pizza project, we used the files pizzamethods.py and pizzaordersfinal.py in the backend repository (pizzabackend) to create the API that stores the information about the different orders that are placed. The place where this is placed is on this site. [Link](https://playgroundproject.duckdns.org/api/pizzaorders/)."
   ]
  },
  {
   "attachments": {},
   "cell_type": "markdown",
   "metadata": {},
   "source": [
    "This API is then used in our frontend project in the API.md and PizzaFront.js files. In the pizzafront.js file, there will be carious points where the program will say "
   ]
  },
  {
   "cell_type": "code",
   "execution_count": null,
   "metadata": {
    "vscode": {
     "languageId": "javascript"
    }
   },
   "outputs": [],
   "source": [
    "fetch('https://playgroundproject.duckdns.org/api/pizzaorders/')"
   ]
  },
  {
   "attachments": {},
   "cell_type": "markdown",
   "metadata": {},
   "source": [
    "At these points the program will get the data from the database that we created earlier, it will use these points to create the table that the users will eventually see on the site. This file also contains various elements that are used to meet the crud requirements (Create, Read, Update, Delete), "
   ]
  }
 ],
 "metadata": {
  "language_info": {
   "name": "python"
  },
  "orig_nbformat": 4
 },
 "nbformat": 4,
 "nbformat_minor": 2
}
