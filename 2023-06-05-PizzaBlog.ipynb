{
 "cells": [
  {
   "attachments": {},
   "cell_type": "markdown",
   "metadata": {},
   "source": [
    "#  Pizza Blog\n",
    "> Blog on how the pizza api works\n",
    "- toc: true\n"
   ]
  },
  {
   "attachments": {},
   "cell_type": "markdown",
   "metadata": {},
   "source": [
    "## The API\n",
    "\n",
    "- For the pizza project, we used the files pizzamethods.py and pizzaordersfinal.py in the backend repository (pizzabackend) to create the API that stores the information about the different orders that are placed. The place where this is placed is on this site. [Link](https://playgroundproject.duckdns.org/api/pizzaorders/)."
   ]
  },
  {
   "attachments": {},
   "cell_type": "markdown",
   "metadata": {},
   "source": [
    "This API is then used in our frontend project in the API.md and PizzaFront.js files. In the pizzafront.js file, there will be carious points where the program will say "
   ]
  },
  {
   "cell_type": "code",
   "execution_count": null,
   "metadata": {
    "vscode": {
     "languageId": "javascript"
    }
   },
   "outputs": [],
   "source": [
    "fetch('https://playgroundproject.duckdns.org/api/pizzaorders/')"
   ]
  },
  {
   "attachments": {},
   "cell_type": "markdown",
   "metadata": {},
   "source": [
    "At these points the program will get the data from the database that we created earlier, it will use these points to create the table that the users will eventually see on the site. This file also contains various elements that are used to meet the crud requirements (Create, Read, Update, Delete), "
   ]
  },
  {
   "attachments": {},
   "cell_type": "markdown",
   "metadata": {},
   "source": [
    "### pizzaMethods"
   ]
  },
  {
   "cell_type": "code",
   "execution_count": null,
   "metadata": {},
   "outputs": [],
   "source": [
    "class PizzaAPI:\n",
    "    class _Create(Resource):\n",
    "        def post(self):\n",
    "            body = request.get_json()\n",
    "            orderName = body.get('orderName')\n",
    "            uid = body.get('uid')\n",
    "            pizzaType = body.get('pizzaType')\n",
    "            address = body.get('address')\n",
    "            \n",
    "            new_order = Order(orderName=orderName, uid=uid, pizzaType=pizzaType, address=address)\n",
    "            created_order = new_order.create()\n",
    "\n",
    "            if created_order:\n",
    "                return jsonify(created_order.read())\n",
    "            else:\n",
    "                return {'message': 'Failed to create a new order'}, 500\n",
    "\n",
    "    class _Read(Resource):\n",
    "        def get(self):\n",
    "            orders = Order.query.all()\n",
    "            json_ready = [order.read() for order in orders]\n",
    "            return jsonify(json_ready)\n",
    "\n",
    "    class _Update(Resource):\n",
    "        def put(self, uid):\n",
    "            body = request.get_json()\n",
    "            order = Order.query.get(uid)\n",
    "\n",
    "            if order:\n",
    "                order.update(\n",
    "                    orderName=body.get('orderName', order.orderName),\n",
    "                    pizzaType=body.get('pizzaType', order.pizzaType),\n",
    "                    address=body.get('address', order.address)\n",
    "                )\n",
    "                return jsonify(order.read())\n",
    "            else:\n",
    "                return {'message': 'Order not found'}, 404\n",
    "\n",
    "    class _Delete(Resource):\n",
    "        def delete(self, uid):\n",
    "            order = Order.query.get(uid)\n",
    "\n",
    "            if order:\n",
    "                order.delete()\n",
    "                return {'message': 'Order deleted successfully'}\n",
    "            else:\n",
    "                return {'message': 'Order not found'}, 404\n",
    "\n",
    "\n",
    "    api.add_resource(_Create, '/')\n",
    "    api.add_resource(_Read, '/')\n",
    "    api.add_resource(_Update, '/<int:uid>')\n",
    "    api.add_resource(_Delete, '/<int:uid>')\n",
    "\n",
    "if __name__ == \"__main__\":\n",
    "    app.run()\n",
    "    CORS(app)"
   ]
  },
  {
   "attachments": {},
   "cell_type": "markdown",
   "metadata": {},
   "source": [
    "The pizzamethods.py file firsts creates the classAPI where the user data (pizza, name, address) is stored. Then it has all of the methods that are used to manipulate the data. "
   ]
  }
 ],
 "metadata": {
  "language_info": {
   "name": "python"
  },
  "orig_nbformat": 4
 },
 "nbformat": 4,
 "nbformat_minor": 2
}
